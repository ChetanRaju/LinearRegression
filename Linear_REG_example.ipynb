{
 "cells": [
  {
   "cell_type": "code",
   "execution_count": 1,
   "metadata": {},
   "outputs": [],
   "source": [
    "import pandas as pd\n",
    "import matplotlib.pyplot as plt\n",
    "from sklearn.linear_model import LinearRegression"
   ]
  },
  {
   "cell_type": "code",
   "execution_count": 2,
   "metadata": {},
   "outputs": [
    {
     "data": {
      "image/png": "[encoded data removed]",
      "text/plain": [
       "<Figure size 432x288 with 1 Axes>"
      ]
     },
     "metadata": {
      "needs_background": "light"
     },
     "output_type": "display_data"
    }
   ],
   "source": [
    "dataset=pd.read_csv('LinRegData.csv')\n",
    "dataset.plot(x='X',y='Y')\n",
    "plt.show()"
   ]
  },
  {
   "cell_type": "code",
   "execution_count": 3,
   "metadata": {},
   "outputs": [],
   "source": [
    "X=dataset['X'].values.reshape(-1,1)\n",
    "Y=dataset['Y'].values.reshape(-1,1)"
   ]
  },
  {
   "cell_type": "code",
   "execution_count": 4,
   "metadata": {},
   "outputs": [
    {
     "name": "stdout",
     "output_type": "stream",
     "text": [
      "[143.62033712]\n",
      "[[8.59614531]]\n"
     ]
    }
   ],
   "source": [
    "reg=LinearRegression()\n",
    "reg.fit(X,Y)\n",
    "print(reg.intercept_)\n",
    "print(reg.coef_)"
   ]
  },
  {
   "cell_type": "code",
   "execution_count": 1,
   "metadata": {},
   "outputs": [],
   "source": [
    "import pandas as pd"
   ]
  },
  {
   "cell_type": "code",
   "execution_count": 2,
   "metadata": {},
   "outputs": [],
   "source": [
    "df = pd.read_csv('housepricedata.csv')\n",
    "dataset = df.values"
   ]
  },
  {
   "cell_type": "code",
   "execution_count": 3,
   "metadata": {},
   "outputs": [
    {
     "data": {
      "text/plain": [
       "array([[ 8450,     7,     5, ...,     0,   548,     1],\n",
       "       [ 9600,     6,     8, ...,     1,   460,     1],\n",
       "       [11250,     7,     5, ...,     1,   608,     1],\n",
       "       ...,\n",
       "       [ 9042,     7,     9, ...,     2,   252,     1],\n",
       "       [ 9717,     5,     6, ...,     0,   240,     0],\n",
       "       [ 9937,     5,     6, ...,     0,   276,     0]], dtype=int64)"
      ]
     },
     "execution_count": 3,
     "metadata": {},
     "output_type": "execute_result"
    }
   ],
   "source": [
    "dataset\n"
   ]
  },
  {
   "cell_type": "code",
   "execution_count": 4,
   "metadata": {},
   "outputs": [],
   "source": [
    "X = dataset[:,0:10]\n",
    "Y = dataset[:,10]"
   ]
  },
  {
   "cell_type": "code",
   "execution_count": 5,
   "metadata": {},
   "outputs": [],
   "source": [
    "from sklearn import preprocessing"
   ]
  },
  {
   "cell_type": "code",
   "execution_count": 6,
   "metadata": {},
   "outputs": [
    {
     "name": "stderr",
     "output_type": "stream",
     "text": [
      "C:\\ProgramData\\Anaconda3\\lib\\site-packages\\sklearn\\utils\\validation.py:595: DataConversionWarning: Data with input dtype int64 was converted to float64 by MinMaxScaler.\n",
      "  warnings.warn(msg, DataConversionWarning)\n"
     ]
    }
   ],
   "source": [
    "X_scale = preprocessing.MinMaxScaler().fit_transform(X)"
   ]
  },
  {
   "cell_type": "code",
   "execution_count": 8,
   "metadata": {},
   "outputs": [],
   "source": [
    "from sklearn.model_selection import train_test_split"
   ]
  },
  {
   "cell_type": "code",
   "execution_count": 9,
   "metadata": {},
   "outputs": [],
   "source": [
    "X_train,X_test,Y_train,Y_test=train_test_split(X_scale,Y,test_size=0.3)"
   ]
  },
  {
   "cell_type": "markdown",
   "metadata": {},
   "source": [
    "## our ANN has two Hidden layers of 32 nodes each with Relu activation output layer has 1 node with segmoid activation"
   ]
  },
  {
   "cell_type": "code",
   "execution_count": 10,
   "metadata": {},
   "outputs": [
    {
     "name": "stderr",
     "output_type": "stream",
     "text": [
      "Using TensorFlow backend.\n"
     ]
    }
   ],
   "source": [
    "from keras.models import Sequential\n",
    "from keras.layers import Dense"
   ]
  },
  {
   "cell_type": "code",
   "execution_count": 11,
   "metadata": {},
   "outputs": [
    {
     "name": "stdout",
     "output_type": "stream",
     "text": [
      "WARNING:tensorflow:From C:\\ProgramData\\Anaconda3\\lib\\site-packages\\keras\\backend\\tensorflow_backend.py:66: The name tf.get_default_graph is deprecated. Please use tf.compat.v1.get_default_graph instead.\n",
      "\n",
      "WARNING:tensorflow:From C:\\ProgramData\\Anaconda3\\lib\\site-packages\\keras\\backend\\tensorflow_backend.py:541: The name tf.placeholder is deprecated. Please use tf.compat.v1.placeholder instead.\n",
      "\n",
      "WARNING:tensorflow:From C:\\ProgramData\\Anaconda3\\lib\\site-packages\\keras\\backend\\tensorflow_backend.py:4432: The name tf.random_uniform is deprecated. Please use tf.random.uniform instead.\n",
      "\n"
     ]
    }
   ],
   "source": [
    "model = Sequential([Dense(32,activation='relu',input_shape=(10,)),Dense(32,activation='relu'),Dense(1,activation='sigmoid'),])"
   ]
  },
  {
   "cell_type": "code",
   "execution_count": 12,
   "metadata": {},
   "outputs": [
    {
     "name": "stdout",
     "output_type": "stream",
     "text": [
      "WARNING:tensorflow:From C:\\ProgramData\\Anaconda3\\lib\\site-packages\\keras\\optimizers.py:793: The name tf.train.Optimizer is deprecated. Please use tf.compat.v1.train.Optimizer instead.\n",
      "\n",
      "WARNING:tensorflow:From C:\\ProgramData\\Anaconda3\\lib\\site-packages\\keras\\backend\\tensorflow_backend.py:3657: The name tf.log is deprecated. Please use tf.math.log instead.\n",
      "\n",
      "WARNING:tensorflow:From C:\\ProgramData\\Anaconda3\\lib\\site-packages\\tensorflow_core\\python\\ops\\nn_impl.py:183: where (from tensorflow.python.ops.array_ops) is deprecated and will be removed in a future version.\n",
      "Instructions for updating:\n",
      "Use tf.where in 2.0, which has the same broadcast rule as np.where\n"
     ]
    }
   ],
   "source": [
    "model.compile(optimizer='sgd',loss='binary_crossentropy',metrics=['accuracy'])"
   ]
  },
  {
   "cell_type": "code",
   "execution_count": 13,
   "metadata": {},
   "outputs": [
    {
     "name": "stdout",
     "output_type": "stream",
     "text": [
      "WARNING:tensorflow:From C:\\ProgramData\\Anaconda3\\lib\\site-packages\\keras\\backend\\tensorflow_backend.py:1033: The name tf.assign_add is deprecated. Please use tf.compat.v1.assign_add instead.\n",
      "\n",
      "WARNING:tensorflow:From C:\\ProgramData\\Anaconda3\\lib\\site-packages\\keras\\backend\\tensorflow_backend.py:1020: The name tf.assign is deprecated. Please use tf.compat.v1.assign instead.\n",
      "\n",
      "WARNING:tensorflow:From C:\\ProgramData\\Anaconda3\\lib\\site-packages\\keras\\backend\\tensorflow_backend.py:3005: The name tf.Session is deprecated. Please use tf.compat.v1.Session instead.\n",
      "\n",
      "Epoch 1/100\n",
      "WARNING:tensorflow:From C:\\ProgramData\\Anaconda3\\lib\\site-packages\\keras\\backend\\tensorflow_backend.py:190: The name tf.get_default_session is deprecated. Please use tf.compat.v1.get_default_session instead.\n",
      "\n",
      "WARNING:tensorflow:From C:\\ProgramData\\Anaconda3\\lib\\site-packages\\keras\\backend\\tensorflow_backend.py:197: The name tf.ConfigProto is deprecated. Please use tf.compat.v1.ConfigProto instead.\n",
      "\n",
      "WARNING:tensorflow:From C:\\ProgramData\\Anaconda3\\lib\\site-packages\\keras\\backend\\tensorflow_backend.py:207: The name tf.global_variables is deprecated. Please use tf.compat.v1.global_variables instead.\n",
      "\n",
      "WARNING:tensorflow:From C:\\ProgramData\\Anaconda3\\lib\\site-packages\\keras\\backend\\tensorflow_backend.py:216: The name tf.is_variable_initialized is deprecated. Please use tf.compat.v1.is_variable_initialized instead.\n",
      "\n",
      "WARNING:tensorflow:From C:\\ProgramData\\Anaconda3\\lib\\site-packages\\keras\\backend\\tensorflow_backend.py:223: The name tf.variables_initializer is deprecated. Please use tf.compat.v1.variables_initializer instead.\n",
      "\n",
      "1022/1022 [==============================] - 2s 2ms/step - loss: 0.7188 - acc: 0.4853\n",
      "Epoch 2/100\n",
      "1022/1022 [==============================] - 0s 72us/step - loss: 0.7047 - acc: 0.4374\n",
      "Epoch 3/100\n",
      "1022/1022 [==============================] - 0s 105us/step - loss: 0.6959 - acc: 0.4746\n",
      "Epoch 4/100\n",
      "1022/1022 [==============================] - 0s 74us/step - loss: 0.6890 - acc: 0.5930\n",
      "Epoch 5/100\n",
      "1022/1022 [==============================] - 0s 89us/step - loss: 0.6842 - acc: 0.5734\n",
      "Epoch 6/100\n",
      "1022/1022 [==============================] - 0s 119us/step - loss: 0.6803 - acc: 0.5509\n",
      "Epoch 7/100\n",
      "1022/1022 [==============================] - 0s 92us/step - loss: 0.6768 - acc: 0.5675\n",
      "Epoch 8/100\n",
      "1022/1022 [==============================] - 0s 99us/step - loss: 0.6736 - acc: 0.5597\n",
      "Epoch 9/100\n",
      "1022/1022 [==============================] - 0s 109us/step - loss: 0.6704 - acc: 0.5753\n",
      "Epoch 10/100\n",
      "1022/1022 [==============================] - 0s 89us/step - loss: 0.6673 - acc: 0.5890\n",
      "Epoch 11/100\n",
      "1022/1022 [==============================] - 0s 83us/step - loss: 0.6642 - acc: 0.6174\n",
      "Epoch 12/100\n",
      "1022/1022 [==============================] - 0s 90us/step - loss: 0.6609 - acc: 0.6438\n",
      "Epoch 13/100\n",
      "1022/1022 [==============================] - 0s 119us/step - loss: 0.6575 - acc: 0.6585\n",
      "Epoch 14/100\n",
      "1022/1022 [==============================] - 0s 114us/step - loss: 0.6539 - acc: 0.6771\n",
      "Epoch 15/100\n",
      "1022/1022 [==============================] - 0s 125us/step - loss: 0.6501 - acc: 0.6977\n",
      "Epoch 16/100\n",
      "1022/1022 [==============================] - 0s 190us/step - loss: 0.6461 - acc: 0.7260\n",
      "Epoch 17/100\n",
      "1022/1022 [==============================] - 0s 97us/step - loss: 0.6420 - acc: 0.7260\n",
      "Epoch 18/100\n",
      "1022/1022 [==============================] - 0s 139us/step - loss: 0.6375 - acc: 0.7495\n",
      "Epoch 19/100\n",
      "1022/1022 [==============================] - 0s 132us/step - loss: 0.6329 - acc: 0.7583\n",
      "Epoch 20/100\n",
      "1022/1022 [==============================] - 0s 155us/step - loss: 0.6280 - acc: 0.7583\n",
      "Epoch 21/100\n",
      "1022/1022 [==============================] - 0s 105us/step - loss: 0.6229 - acc: 0.7691\n",
      "Epoch 22/100\n",
      "1022/1022 [==============================] - 0s 128us/step - loss: 0.6173 - acc: 0.7789\n",
      "Epoch 23/100\n",
      "1022/1022 [==============================] - 0s 96us/step - loss: 0.6117 - acc: 0.7838\n",
      "Epoch 24/100\n",
      "1022/1022 [==============================] - 0s 123us/step - loss: 0.6057 - acc: 0.7886 0s - loss: 0.6033 - acc: 0.79\n",
      "Epoch 25/100\n",
      "1022/1022 [==============================] - ETA: 0s - loss: 0.6010 - acc: 0.800 - 0s 180us/step - loss: 0.5992 - acc: 0.8033\n",
      "Epoch 26/100\n",
      "1022/1022 [==============================] - 0s 87us/step - loss: 0.5927 - acc: 0.8004\n",
      "Epoch 27/100\n",
      "1022/1022 [==============================] - 0s 108us/step - loss: 0.5856 - acc: 0.8102\n",
      "Epoch 28/100\n",
      "1022/1022 [==============================] - 0s 91us/step - loss: 0.5782 - acc: 0.8053\n",
      "Epoch 29/100\n",
      "1022/1022 [==============================] - 0s 87us/step - loss: 0.5709 - acc: 0.8121\n",
      "Epoch 30/100\n",
      "1022/1022 [==============================] - 0s 117us/step - loss: 0.5631 - acc: 0.8112\n",
      "Epoch 31/100\n",
      "1022/1022 [==============================] - 0s 96us/step - loss: 0.5553 - acc: 0.8190\n",
      "Epoch 32/100\n",
      "1022/1022 [==============================] - 0s 116us/step - loss: 0.5469 - acc: 0.8180\n",
      "Epoch 33/100\n",
      "1022/1022 [==============================] - 0s 131us/step - loss: 0.5386 - acc: 0.8209\n",
      "Epoch 34/100\n",
      "1022/1022 [==============================] - 0s 140us/step - loss: 0.5300 - acc: 0.8356\n",
      "Epoch 35/100\n",
      "1022/1022 [==============================] - 0s 170us/step - loss: 0.5215 - acc: 0.8278\n",
      "Epoch 36/100\n",
      "1022/1022 [==============================] - 0s 129us/step - loss: 0.5129 - acc: 0.8356\n",
      "Epoch 37/100\n",
      "1022/1022 [==============================] - 0s 98us/step - loss: 0.5042 - acc: 0.8337\n",
      "Epoch 38/100\n",
      "1022/1022 [==============================] - 0s 103us/step - loss: 0.4957 - acc: 0.8376\n",
      "Epoch 39/100\n",
      "1022/1022 [==============================] - 0s 120us/step - loss: 0.4869 - acc: 0.8366\n",
      "Epoch 40/100\n",
      "1022/1022 [==============================] - 0s 112us/step - loss: 0.4784 - acc: 0.8523\n",
      "Epoch 41/100\n",
      "1022/1022 [==============================] - 0s 78us/step - loss: 0.4698 - acc: 0.8532\n",
      "Epoch 42/100\n",
      "1022/1022 [==============================] - 0s 127us/step - loss: 0.4617 - acc: 0.8542\n",
      "Epoch 43/100\n",
      "1022/1022 [==============================] - 0s 129us/step - loss: 0.4536 - acc: 0.8493\n",
      "Epoch 44/100\n",
      "1022/1022 [==============================] - 0s 149us/step - loss: 0.4457 - acc: 0.8513\n",
      "Epoch 45/100\n",
      "1022/1022 [==============================] - 0s 139us/step - loss: 0.4381 - acc: 0.8513\n",
      "Epoch 46/100\n",
      "1022/1022 [==============================] - 0s 143us/step - loss: 0.4307 - acc: 0.8562\n",
      "Epoch 47/100\n",
      "1022/1022 [==============================] - 0s 103us/step - loss: 0.4239 - acc: 0.8532\n",
      "Epoch 48/100\n",
      "1022/1022 [==============================] - 0s 99us/step - loss: 0.4172 - acc: 0.8601\n",
      "Epoch 49/100\n",
      "1022/1022 [==============================] - 0s 103us/step - loss: 0.4107 - acc: 0.8591\n",
      "Epoch 50/100\n",
      "1022/1022 [==============================] - 0s 78us/step - loss: 0.4048 - acc: 0.8571\n",
      "Epoch 51/100\n",
      "1022/1022 [==============================] - 0s 141us/step - loss: 0.3988 - acc: 0.8630\n",
      "Epoch 52/100\n",
      "1022/1022 [==============================] - 0s 133us/step - loss: 0.3933 - acc: 0.8640\n",
      "Epoch 53/100\n",
      "1022/1022 [==============================] - 0s 117us/step - loss: 0.3883 - acc: 0.8601\n",
      "Epoch 54/100\n",
      "1022/1022 [==============================] - 0s 176us/step - loss: 0.3828 - acc: 0.8601\n",
      "Epoch 55/100\n",
      "1022/1022 [==============================] - 0s 136us/step - loss: 0.3783 - acc: 0.8620\n",
      "Epoch 56/100\n",
      "1022/1022 [==============================] - 0s 96us/step - loss: 0.3737 - acc: 0.8650\n",
      "Epoch 57/100\n",
      "1022/1022 [==============================] - 0s 128us/step - loss: 0.3698 - acc: 0.8640\n",
      "Epoch 58/100\n",
      "1022/1022 [==============================] - 0s 115us/step - loss: 0.3656 - acc: 0.8640\n",
      "Epoch 59/100\n",
      "1022/1022 [==============================] - 0s 133us/step - loss: 0.3617 - acc: 0.8620\n",
      "Epoch 60/100\n",
      "1022/1022 [==============================] - 0s 145us/step - loss: 0.3585 - acc: 0.8640\n",
      "Epoch 61/100\n",
      "1022/1022 [==============================] - 0s 136us/step - loss: 0.3550 - acc: 0.8640\n",
      "Epoch 62/100\n",
      "1022/1022 [==============================] - 0s 126us/step - loss: 0.3516 - acc: 0.8630\n",
      "Epoch 63/100\n",
      "1022/1022 [==============================] - 0s 131us/step - loss: 0.3489 - acc: 0.8640\n",
      "Epoch 64/100\n",
      "1022/1022 [==============================] - 0s 123us/step - loss: 0.3465 - acc: 0.8679\n",
      "Epoch 65/100\n",
      "1022/1022 [==============================] - 0s 99us/step - loss: 0.3429 - acc: 0.8650\n",
      "Epoch 66/100\n",
      "1022/1022 [==============================] - 0s 83us/step - loss: 0.3410 - acc: 0.8650: 0s - loss: 0.3519 - acc: 0.854\n",
      "Epoch 67/100\n",
      "1022/1022 [==============================] - 0s 77us/step - loss: 0.3386 - acc: 0.8659\n",
      "Epoch 68/100\n",
      "1022/1022 [==============================] - 0s 68us/step - loss: 0.3363 - acc: 0.8669\n",
      "Epoch 69/100\n",
      "1022/1022 [==============================] - 0s 67us/step - loss: 0.3341 - acc: 0.8718\n",
      "Epoch 70/100\n",
      "1022/1022 [==============================] - 0s 75us/step - loss: 0.3320 - acc: 0.8679\n",
      "Epoch 71/100\n",
      "1022/1022 [==============================] - 0s 76us/step - loss: 0.3302 - acc: 0.8689\n",
      "Epoch 72/100\n",
      "1022/1022 [==============================] - 0s 63us/step - loss: 0.3282 - acc: 0.8679\n",
      "Epoch 73/100\n",
      "1022/1022 [==============================] - 0s 66us/step - loss: 0.3264 - acc: 0.8679\n",
      "Epoch 74/100\n",
      "1022/1022 [==============================] - 0s 53us/step - loss: 0.3245 - acc: 0.8689\n",
      "Epoch 75/100\n",
      "1022/1022 [==============================] - 0s 68us/step - loss: 0.3224 - acc: 0.8728\n",
      "Epoch 76/100\n",
      "1022/1022 [==============================] - 0s 78us/step - loss: 0.3218 - acc: 0.8699\n",
      "Epoch 77/100\n",
      "1022/1022 [==============================] - 0s 78us/step - loss: 0.3203 - acc: 0.8708\n",
      "Epoch 78/100\n",
      "1022/1022 [==============================] - 0s 65us/step - loss: 0.3188 - acc: 0.8699\n",
      "Epoch 79/100\n",
      "1022/1022 [==============================] - 0s 50us/step - loss: 0.3170 - acc: 0.8728\n",
      "Epoch 80/100\n",
      "1022/1022 [==============================] - 0s 58us/step - loss: 0.3158 - acc: 0.8689\n",
      "Epoch 81/100\n",
      "1022/1022 [==============================] - 0s 70us/step - loss: 0.3146 - acc: 0.8689\n",
      "Epoch 82/100\n",
      "1022/1022 [==============================] - 0s 59us/step - loss: 0.3136 - acc: 0.8718\n",
      "Epoch 83/100\n",
      "1022/1022 [==============================] - 0s 59us/step - loss: 0.3125 - acc: 0.8699\n",
      "Epoch 84/100\n",
      "1022/1022 [==============================] - 0s 59us/step - loss: 0.3109 - acc: 0.8718\n",
      "Epoch 85/100\n",
      "1022/1022 [==============================] - 0s 63us/step - loss: 0.3101 - acc: 0.8748\n",
      "Epoch 86/100\n",
      "1022/1022 [==============================] - 0s 61us/step - loss: 0.3079 - acc: 0.8699\n",
      "Epoch 87/100\n",
      "1022/1022 [==============================] - 0s 68us/step - loss: 0.3074 - acc: 0.8757\n",
      "Epoch 88/100\n",
      "1022/1022 [==============================] - 0s 67us/step - loss: 0.3072 - acc: 0.8708\n",
      "Epoch 89/100\n",
      "1022/1022 [==============================] - 0s 77us/step - loss: 0.3060 - acc: 0.8738\n",
      "Epoch 90/100\n",
      "1022/1022 [==============================] - 0s 62us/step - loss: 0.3045 - acc: 0.8718\n",
      "Epoch 91/100\n",
      "1022/1022 [==============================] - 0s 64us/step - loss: 0.3034 - acc: 0.8728\n",
      "Epoch 92/100\n",
      "1022/1022 [==============================] - 0s 111us/step - loss: 0.3026 - acc: 0.8767\n",
      "Epoch 93/100\n",
      "1022/1022 [==============================] - 0s 75us/step - loss: 0.3016 - acc: 0.8708\n",
      "Epoch 94/100\n",
      "1022/1022 [==============================] - 0s 63us/step - loss: 0.3008 - acc: 0.8767\n",
      "Epoch 95/100\n",
      "1022/1022 [==============================] - 0s 62us/step - loss: 0.2995 - acc: 0.8796\n",
      "Epoch 96/100\n",
      "1022/1022 [==============================] - 0s 72us/step - loss: 0.2997 - acc: 0.8767\n",
      "Epoch 97/100\n",
      "1022/1022 [==============================] - 0s 57us/step - loss: 0.2990 - acc: 0.8748\n",
      "Epoch 98/100\n",
      "1022/1022 [==============================] - 0s 53us/step - loss: 0.2967 - acc: 0.8748\n",
      "Epoch 99/100\n",
      "1022/1022 [==============================] - 0s 53us/step - loss: 0.2968 - acc: 0.8777\n",
      "Epoch 100/100\n",
      "1022/1022 [==============================] - 0s 73us/step - loss: 0.2961 - acc: 0.8777\n"
     ]
    }
   ],
   "source": [
    "hist=model.fit(X_train,Y_train,batch_size=32,epochs=100)"
   ]
  },
  {
   "cell_type": "code",
   "execution_count": 14,
   "metadata": {},
   "outputs": [
    {
     "name": "stdout",
     "output_type": "stream",
     "text": [
      "438/438 [==============================] - 0s 257us/step\n"
     ]
    }
   ],
   "source": [
    "acc=model.evaluate(X_test,Y_test)[1]"
   ]
  },
  {
   "cell_type": "code",
   "execution_count": 15,
   "metadata": {},
   "outputs": [
    {
     "name": "stdout",
     "output_type": "stream",
     "text": [
      "Test Accuracy:0.8904109589041096\n"
     ]
    }
   ],
   "source": [
    "print(\"Test Accuracy:\"+str(acc))"
   ]
  },
  {
   "cell_type": "code",
   "execution_count": null,
   "metadata": {},
   "outputs": [],
   "source": []
  }
 ],
 "metadata": {
  "kernelspec": {
   "display_name": "Python 3",
   "language": "python",
   "name": "python3"
  },
  "language_info": {
   "codemirror_mode": {
    "name": "ipython",
    "version": 3
   },
   "file_extension": ".py",
   "mimetype": "text/x-python",
   "name": "python",
   "nbconvert_exporter": "python",
   "pygments_lexer": "ipython3",
   "version": "3.7.3"
  }
 },
 "nbformat": 4,
 "nbformat_minor": 2
}
